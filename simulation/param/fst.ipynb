{
 "cells": [
  {
   "cell_type": "code",
   "execution_count": 1,
   "metadata": {},
   "outputs": [
    {
     "name": "stdout",
     "output_type": "stream",
     "text": [
      "FSTmax =  17.8062283737\n",
      "FSTmin =  10.5224913495\n",
      "CPmax =  16.146\n",
      "CPmin =  14.041\n"
     ]
    }
   ],
   "source": [
    "import numpy as np\n",
    "import matplotlib.pyplot as plt\n",
    "import math\n",
    "from functools import reduce\n",
    "csvname = \"FSTsim.csv\"\n",
    "cg = 11.0\n",
    "L = 28.9\n",
    "\n",
    "data = np.loadtxt(csvname, delimiter=',')\n",
    "deg = data[:,1]\n",
    "deg = deg[~np.isnan(deg)]\n",
    "cp = data[:,2]\n",
    "cp = cp[~np.isnan(cp)]\n",
    "degmin_idx = np.argmin(deg)\n",
    "degmax  = max(deg[degmin_idx:])\n",
    "\n",
    "cpmax = max(cp)\n",
    "cpmin = min(cp)\n",
    "\n",
    "Fstmax = ((cpmax-cg)/L)*100\n",
    "Fstmin = ((cpmin-cg)/L)*100\n",
    "print(\"FSTmax = \" , Fstmax)\n",
    "print(\"FSTmin = \" , Fstmin)\n",
    "\n",
    "print(\"CPmax = \" , cpmax)\n",
    "print(\"CPmin = \" , cpmin)"
   ]
  },
  {
   "cell_type": "code",
   "execution_count": null,
   "metadata": {},
   "outputs": [],
   "source": []
  }
 ],
 "metadata": {
  "kernelspec": {
   "display_name": "Python 3",
   "language": "python",
   "name": "python3"
  },
  "language_info": {
   "codemirror_mode": {
    "name": "ipython",
    "version": 3
   },
   "file_extension": ".py",
   "mimetype": "text/x-python",
   "name": "python",
   "nbconvert_exporter": "python",
   "pygments_lexer": "ipython3",
   "version": "3.6.1"
  }
 },
 "nbformat": 4,
 "nbformat_minor": 2
}
